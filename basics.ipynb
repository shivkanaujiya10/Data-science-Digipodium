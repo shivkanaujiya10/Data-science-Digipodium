{
 "cells": [
  {
   "cell_type": "code",
   "execution_count": null,
   "metadata": {},
   "outputs": [],
   "source": [
    "\"shiv kanaujiya\""
   ]
  },
  {
   "cell_type": "markdown",
   "metadata": {},
   "source": [
    "# basics\n",
    "- variables\n",
    "- operators\n",
    "- datatypes\n",
    "- input/output"
   ]
  },
  {
   "cell_type": "code",
   "execution_count": 9,
   "metadata": {},
   "outputs": [],
   "source": [
    "x = 3\n",
    "a , b = 10, 11\n",
    "c = a + b"
   ]
  },
  {
   "cell_type": "code",
   "execution_count": 16,
   "metadata": {},
   "outputs": [],
   "source": [
    "l = 5\n",
    "b = 10\n",
    "area = l * b"
   ]
  },
  {
   "cell_type": "code",
   "execution_count": 20,
   "metadata": {},
   "outputs": [],
   "source": [
    "a = 1000"
   ]
  },
  {
   "cell_type": "code",
   "execution_count": 18,
   "metadata": {},
   "outputs": [],
   "source": [
    "a = \"hello\""
   ]
  },
  {
   "cell_type": "code",
   "execution_count": 19,
   "metadata": {},
   "outputs": [],
   "source": [
    "a = 1.2345"
   ]
  },
  {
   "cell_type": "code",
   "execution_count": 21,
   "metadata": {},
   "outputs": [],
   "source": [
    "del area"
   ]
  },
  {
   "cell_type": "markdown",
   "metadata": {},
   "source": [
    "operators\n",
    "- assignment\n",
    "- arithmatic\n",
    "- comparison\n",
    "- logical\n",
    "- membership\n",
    "- identity"
   ]
  },
  {
   "cell_type": "code",
   "execution_count": 23,
   "metadata": {},
   "outputs": [],
   "source": [
    "# arithmatic + - * / % ** //\n",
    "a = 10\n",
    "b = 3"
   ]
  },
  {
   "cell_type": "code",
   "execution_count": 24,
   "metadata": {},
   "outputs": [
    {
     "data": {
      "text/plain": [
       "13"
      ]
     },
     "execution_count": 24,
     "metadata": {},
     "output_type": "execute_result"
    }
   ],
   "source": [
    "a+b"
   ]
  },
  {
   "cell_type": "code",
   "execution_count": 25,
   "metadata": {},
   "outputs": [
    {
     "data": {
      "text/plain": [
       "7"
      ]
     },
     "execution_count": 25,
     "metadata": {},
     "output_type": "execute_result"
    }
   ],
   "source": [
    "a-b"
   ]
  },
  {
   "cell_type": "code",
   "execution_count": 26,
   "metadata": {},
   "outputs": [
    {
     "data": {
      "text/plain": [
       "3.3333333333333335"
      ]
     },
     "execution_count": 26,
     "metadata": {},
     "output_type": "execute_result"
    }
   ],
   "source": [
    "a/b"
   ]
  },
  {
   "cell_type": "code",
   "execution_count": 27,
   "metadata": {},
   "outputs": [
    {
     "data": {
      "text/plain": [
       "1"
      ]
     },
     "execution_count": 27,
     "metadata": {},
     "output_type": "execute_result"
    }
   ],
   "source": [
    "a%b"
   ]
  },
  {
   "cell_type": "code",
   "execution_count": 28,
   "metadata": {},
   "outputs": [
    {
     "data": {
      "text/plain": [
       "1000"
      ]
     },
     "execution_count": 28,
     "metadata": {},
     "output_type": "execute_result"
    }
   ],
   "source": [
    "a**b"
   ]
  },
  {
   "cell_type": "code",
   "execution_count": 29,
   "metadata": {},
   "outputs": [
    {
     "data": {
      "text/plain": [
       "3"
      ]
     },
     "execution_count": 29,
     "metadata": {},
     "output_type": "execute_result"
    }
   ],
   "source": [
    "a//b"
   ]
  },
  {
   "cell_type": "code",
   "execution_count": 30,
   "metadata": {},
   "outputs": [
    {
     "name": "stdout",
     "output_type": "stream",
     "text": [
      "3\n",
      "1\n",
      "1000\n"
     ]
    }
   ],
   "source": [
    "print(a // b) #integer divison\n",
    "print(a % b) #remainder (modulo)\n",
    "print(a ** b) #exponentiation"
   ]
  },
  {
   "cell_type": "code",
   "execution_count": 6,
   "metadata": {},
   "outputs": [
    {
     "name": "stdout",
     "output_type": "stream",
     "text": [
      "False\n",
      "True\n",
      "False\n",
      "True\n",
      "False\n",
      "True\n"
     ]
    }
   ],
   "source": [
    "# comparison < > >= <= == !=\n",
    "x = 120\n",
    "y = 290\n",
    "print(x > y) #gt\n",
    "print(x < y) #lt\n",
    "print(x >= y) #gte\n",
    "print(x <= y) #lte\n",
    "print(x == 100) #equality\n",
    "print(x != 100) #inequaity"
   ]
  },
  {
   "cell_type": "code",
   "execution_count": 7,
   "metadata": {},
   "outputs": [
    {
     "name": "stdout",
     "output_type": "stream",
     "text": [
      "True\n",
      "False\n",
      "True\n",
      "False\n",
      "False\n",
      "True\n"
     ]
    }
   ],
   "source": [
    "# logic -> and or not\n",
    "print(x > 10 and y > 50)\n",
    "print(x > 10 and y < 50)\n",
    "print(x > 10 or y < 50)\n",
    "print(x < 10 or y < 50)\n",
    "print(not x > 5) # invert the result\n",
    "print(not x < 5)"
   ]
  },
  {
   "cell_type": "code",
   "execution_count": 35,
   "metadata": {},
   "outputs": [
    {
     "name": "stdout",
     "output_type": "stream",
     "text": [
      "True\n",
      "False\n",
      "False\n",
      "True\n"
     ]
    }
   ],
   "source": [
    "# membership -> in, not in\n",
    "x = [1,2,3,4,5,6,7]\n",
    "print(5 in x)\n",
    "print(10 in x)\n",
    "print(3 not in x)\n",
    "print(10 not in x)"
   ]
  },
  {
   "cell_type": "code",
   "execution_count": 3,
   "metadata": {},
   "outputs": [
    {
     "name": "stdout",
     "output_type": "stream",
     "text": [
      "True\n",
      "False\n",
      "False\n"
     ]
    }
   ],
   "source": [
    "# identity -> is, is not\n",
    "a = [1,2,3,4]\n",
    "b = a # copy the reference\n",
    "c = [1,2,3,4]\n",
    "print(a is b)\n",
    "print(a is c)\n",
    "print(b is c)"
   ]
  },
  {
   "cell_type": "markdown",
   "metadata": {},
   "source": [
    "# datatypes\n",
    "- int (integer)\n",
    "- float (real number)\n",
    "- bool (boolean)\n",
    "- str (string or text)\n",
    "- Nonetype (none)\n",
    "- list \n",
    "- tuple\n",
    "- set\n",
    "- dict (dictonary)\n"
   ]
  },
  {
   "cell_type": "code",
   "execution_count": 5,
   "metadata": {},
   "outputs": [],
   "source": [
    "num = 5 #integer\n",
    "name = \"shiv kanaujiya\" # str\n",
    "pi = 3.14159 #float\n",
    "sleepy = True #bool\n",
    "data = None #nonetype\n",
    "a_list = [1,2,3,4,5] #list\n",
    "a_tuple = (1,2,3,4,5) #tuple\n",
    "a_set = {1,2,3,4,5} #set\n",
    "a_dict = {1,2,3,4,5} #dict"
   ]
  },
  {
   "cell_type": "markdown",
   "metadata": {},
   "source": [
    "displaying output and getting input"
   ]
  },
  {
   "cell_type": "markdown",
   "metadata": {},
   "source": [
    "print()\n",
    "print('Hello')\n",
    "print('example string')\n",
    "print('example','print()','with','multiple','arguments')\n",
    "print('example','print()','with','multiple','arguments', sep='_')\n",
    "print('example',print()',with','multiple','arguments', sep='')\n",
    "print('example',print()',with','multiple','arguments', sep='')\n",
    "print('C:)"
   ]
  },
  {
   "cell_type": "code",
   "execution_count": 2,
   "metadata": {},
   "outputs": [
    {
     "name": "stdout",
     "output_type": "stream",
     "text": [
      "['apple', 'banana', 'cherry', 'tomato']\n",
      "apple\n",
      "banana\n",
      "cherry\n",
      "tomato\n"
     ]
    }
   ],
   "source": [
    "fruits = ['apple', 'banana', 'cherry', 'tomato']\n",
    "print(fruits)\n",
    "print(*fruits, sep='\\n') # hack to print list items in new lines"
   ]
  },
  {
   "cell_type": "markdown",
   "metadata": {},
   "source": [
    "displaying content with variables"
   ]
  },
  {
   "cell_type": "code",
   "execution_count": 3,
   "metadata": {},
   "outputs": [
    {
     "name": "stdout",
     "output_type": "stream",
     "text": [
      "Result => 10 + 20 = 30\n",
      "Result => 10 + 20 = 30\n"
     ]
    }
   ],
   "source": [
    "a, b, = 10, 20\n",
    "c = a + b\n",
    "# Result => 10 + 20 = 30\n",
    "print('Result =>', a, '+', b, '=', c) # comma seprated \n",
    "print(f'Result => {a} + {b} = {c}') # f-string"
   ]
  },
  {
   "cell_type": "code",
   "execution_count": 5,
   "metadata": {},
   "outputs": [
    {
     "ename": "ValueError",
     "evalue": "invalid literal for int() with base 10: ''",
     "output_type": "error",
     "traceback": [
      "\u001b[1;31m---------------------------------------------------------------------------\u001b[0m",
      "\u001b[1;31mValueError\u001b[0m                                Traceback (most recent call last)",
      "Cell \u001b[1;32mIn[5], line 1\u001b[0m\n\u001b[1;32m----> 1\u001b[0m x \u001b[38;5;241m=\u001b[39m \u001b[38;5;28mint\u001b[39m(\u001b[38;5;28minput\u001b[39m())\n\u001b[0;32m      2\u001b[0m name \u001b[38;5;241m=\u001b[39m \u001b[38;5;28minput\u001b[39m(\u001b[38;5;124m\"\u001b[39m\u001b[38;5;124mwho are you?\u001b[39m\u001b[38;5;124m\"\u001b[39m)\n\u001b[0;32m      3\u001b[0m \u001b[38;5;28mprint\u001b[39m(\u001b[38;5;124mf\u001b[39m\u001b[38;5;124m\"\u001b[39m\u001b[38;5;124mSo you are, \u001b[39m\u001b[38;5;132;01m{\u001b[39;00mname\u001b[38;5;132;01m}\u001b[39;00m\u001b[38;5;124m, i have been expecting you\u001b[39m\u001b[38;5;124m\"\u001b[39m)\n",
      "\u001b[1;31mValueError\u001b[0m: invalid literal for int() with base 10: ''"
     ]
    }
   ],
   "source": [
    "x = int(input())\n",
    "name = input(\"who are you?\")\n",
    "print(f\"So you are, {name}, i have been expecting you\")"
   ]
  },
  {
   "cell_type": "code",
   "execution_count": 6,
   "metadata": {},
   "outputs": [
    {
     "name": "stdout",
     "output_type": "stream",
     "text": [
      "Simple Interest calculation\n",
      "_ _ _ _ _ _ _ _ _ _ _ _ _ _ _ _ _ _ _ _ _ _ _ _ _ _ _ _ _ _ \n"
     ]
    },
    {
     "ename": "NameError",
     "evalue": "name 'p' is not defined",
     "output_type": "error",
     "traceback": [
      "\u001b[1;31m---------------------------------------------------------------------------\u001b[0m",
      "\u001b[1;31mNameError\u001b[0m                                 Traceback (most recent call last)",
      "Cell \u001b[1;32mIn[6], line 3\u001b[0m\n\u001b[0;32m      1\u001b[0m \u001b[38;5;28mprint\u001b[39m(\u001b[38;5;124m\"\u001b[39m\u001b[38;5;124mSimple Interest calculation\u001b[39m\u001b[38;5;124m\"\u001b[39m)\n\u001b[0;32m      2\u001b[0m \u001b[38;5;28mprint\u001b[39m(\u001b[38;5;124m\"\u001b[39m\u001b[38;5;124m_ _ _ \u001b[39m\u001b[38;5;124m\"\u001b[39m\u001b[38;5;241m*\u001b[39m\u001b[38;5;241m10\u001b[39m)\n\u001b[1;32m----> 3\u001b[0m \u001b[38;5;28mprint\u001b[39m(\u001b[38;5;124mf\u001b[39m\u001b[38;5;124m'\u001b[39m\u001b[38;5;124mPrincipal => \u001b[39m\u001b[38;5;132;01m{\u001b[39;00mp\u001b[38;5;132;01m:\u001b[39;00m\u001b[38;5;124m20\u001b[39m\u001b[38;5;132;01m}\u001b[39;00m\u001b[38;5;124m'\u001b[39m)\n\u001b[0;32m      4\u001b[0m \u001b[38;5;28mprint\u001b[39m(\u001b[38;5;124mf\u001b[39m\u001b[38;5;124m'\u001b[39m\u001b[38;5;124mRate of Interest => \u001b[39m\u001b[38;5;132;01m{\u001b[39;00mr\u001b[38;5;132;01m:\u001b[39;00m\u001b[38;5;124m13\u001b[39m\u001b[38;5;132;01m}\u001b[39;00m\u001b[38;5;124m'\u001b[39m)\n\u001b[0;32m      5\u001b[0m \u001b[38;5;28mprint\u001b[39m(\u001b[38;5;124mf\u001b[39m\u001b[38;5;124m'\u001b[39m\u001b[38;5;124mTime(yrs) => \u001b[39m\u001b[38;5;132;01m{\u001b[39;00mt\u001b[38;5;132;01m:\u001b[39;00m\u001b[38;5;124m20\u001b[39m\u001b[38;5;132;01m}\u001b[39;00m\u001b[38;5;124m'\u001b[39m)\n",
      "\u001b[1;31mNameError\u001b[0m: name 'p' is not defined"
     ]
    }
   ],
   "source": []
  },
  {
   "cell_type": "code",
   "execution_count": null,
   "metadata": {},
   "outputs": [],
   "source": [
    "p = int(input(\"Enter the principal amount\")\n",
    "r = int(input(\"Enter the Rate ofInterest\"))\n",
    "t = int(input(:Enter the Time in years:\"\"))\n",
    "si = p * r * t / 100\n",
    "print(\"Simple Interest calculation\")\n",
    "print(\"_ _ _ \"*10)\n",
    "print(f'Principal => {p:20}')\n",
    "print(f'Time(yrs) => {t:20}')\n",
    "print(\"_ _ _\"*10)\n",
    "print(f'Simple interest will be =>')"
   ]
  },
  {
   "cell_type": "markdown",
   "metadata": {},
   "source": [
    "alignment and formating"
   ]
  },
  {
   "cell_type": "code",
   "execution_count": 7,
   "metadata": {},
   "outputs": [
    {
     "name": "stdout",
     "output_type": "stream",
     "text": [
      "Journey\n",
      "Journey\n",
      "        Journey\n",
      "Journey        \n",
      "1200.239012930214\n",
      "1200.239012930214\n",
      "1200.239012930214\n",
      "        1200.24\n",
      "1.2e+03\n"
     ]
    }
   ],
   "source": [
    "word = 'Journey'\n",
    "print(word)\n",
    "print(f\"{word}\")\n",
    "print(f\"{word:>15}\") # right align\n",
    "print(f\"{word:15}\") # center align\n",
    "num = 1200.239012930213912\n",
    "print(f\"{num}\")\n",
    "print(f\"{num:>15}\")\n",
    "print(f\"{num:<15}\")\n",
    "print(f\"{num:15.2f}\")\n",
    "print(f\"{num:.3}\")"
   ]
  },
  {
   "cell_type": "markdown",
   "metadata": {},
   "source": [
    "# control flow\n",
    "### condition\n",
    "- if\n",
    "- if else\n",
    "- if elif ladder\n",
    "- match case\n",
    "- nested if"
   ]
  },
  {
   "cell_type": "markdown",
   "metadata": {},
   "source": [
    "# loops\n",
    "- for loop\n",
    "- while loop"
   ]
  },
  {
   "cell_type": "code",
   "execution_count": 8,
   "metadata": {},
   "outputs": [
    {
     "ename": "IndentationError",
     "evalue": "expected an indented block after 'if' statement on line 2 (410441353.py, line 3)",
     "output_type": "error",
     "traceback": [
      "\u001b[1;36m  Cell \u001b[1;32mIn[8], line 3\u001b[1;36m\u001b[0m\n\u001b[1;33m    print(\"😎 very nice\")\u001b[0m\n\u001b[1;37m    ^\u001b[0m\n\u001b[1;31mIndentationError\u001b[0m\u001b[1;31m:\u001b[0m expected an indented block after 'if' statement on line 2\n"
     ]
    }
   ],
   "source": [
    "x = 10\n",
    "if x >= 5:\n",
    "print(\"😎 very nice\")\n",
    "\n",
    "y = 2\n",
    "if x > 5 and y < 5:\n",
    "print(\"🐞 no bug here\")\n",
    "\n",
    "name = \"jenny\"\n",
    "if name:\n",
    "print(\"Name exist\")"
   ]
  },
  {
   "cell_type": "code",
   "execution_count": null,
   "metadata": {},
   "outputs": [],
   "source": [
    "a = 'asjdak'\n",
    "if len(a)"
   ]
  }
 ],
 "metadata": {
  "kernelspec": {
   "display_name": "Python 3",
   "language": "python",
   "name": "python3"
  },
  "language_info": {
   "codemirror_mode": {
    "name": "ipython",
    "version": 3
   },
   "file_extension": ".py",
   "mimetype": "text/x-python",
   "name": "python",
   "nbconvert_exporter": "python",
   "pygments_lexer": "ipython3",
   "version": "3.12.4"
  }
 },
 "nbformat": 4,
 "nbformat_minor": 2
}
