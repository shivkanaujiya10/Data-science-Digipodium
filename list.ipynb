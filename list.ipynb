{
 "cells": [
  {
   "cell_type": "markdown",
   "metadata": {},
   "source": [
    "Data structure - list\n",
    "\n",
    "1. Creating\n",
    "2. Indexing and slicing (same as string)\n",
    "3. Method - 11 methods\n",
    "4. List coprehension"
   ]
  },
  {
   "cell_type": "code",
   "execution_count": 1,
   "metadata": {},
   "outputs": [],
   "source": [
    "x = [] # empty list\n",
    "num_list = [1,2,3,4,5]\n",
    "word_list = ['this','that','of','what']\n",
    "bool_list = [True, True, False, True]\n",
    "mixed_list = [1,2,\"three\", False]\n",
    "nested_list = [[1,2,3], [4,5,6]]"
   ]
  },
  {
   "cell_type": "code",
   "execution_count": 2,
   "metadata": {},
   "outputs": [
    {
     "name": "stdout",
     "output_type": "stream",
     "text": [
      "[1, 4, 7, 10, 13]\n",
      "[[1, 2, 3], [1, 3, 2], [3, 2, 1]]\n",
      "[1, 1, 1, 1, 1, 1, 1, 1, 1, 1]\n"
     ]
    }
   ],
   "source": [
    "y = list(range(1,16,3))\n",
    "print(y)\n",
    "a = [1,2,3]\n",
    "b = [1,3,2]\n",
    "c = [3,2,1]\n",
    "mat = [a,b,c] # list from variables\n",
    "print(mat)\n",
    "\n",
    "z = [1] * 10 # duplicated list\n",
    "print(z)"
   ]
  },
  {
   "cell_type": "markdown",
   "metadata": {},
   "source": [
    "Rules for list:\n",
    "1. indexed\n",
    "2. ordered\n",
    "3. mutable\n",
    "4. heterogenous datatype\n",
    "5. can have duplicate values\n",
    "6. represented with '[ ]'\n",
    "7. list() can used to cast other datastructure to a list"
   ]
  },
  {
   "cell_type": "code",
   "execution_count": 7,
   "metadata": {},
   "outputs": [],
   "source": [
    "names = ['Satwik','Manas','Shiv','Naman','Arpit','Ritesh','Paras','faheem','Ammar','Esha','Sachin','Savri']"
   ]
  },
  {
   "cell_type": "code",
   "execution_count": 8,
   "metadata": {},
   "outputs": [
    {
     "name": "stdout",
     "output_type": "stream",
     "text": [
      "Satwik\n",
      "Savri\n",
      "Ritesh\n",
      "Sachin\n"
     ]
    }
   ],
   "source": [
    "print(names[0]) # first index\n",
    "print(names[-1]) #second index\n",
    "print(names[5]) # 3rd index\n",
    "print(names[10]) # 10th index"
   ]
  },
  {
   "cell_type": "code",
   "execution_count": 9,
   "metadata": {},
   "outputs": [
    {
     "name": "stdout",
     "output_type": "stream",
     "text": [
      "['Satwik', 'Manas', 'Shiv', 'Naman', 'Arpit']\n",
      "['faheem', 'Ammar', 'Esha', 'Sachin', 'Savri']\n",
      "['Shiv', 'Naman', 'Arpit', 'Ritesh', 'Paras', 'faheem', 'Ammar', 'Esha']\n"
     ]
    }
   ],
   "source": [
    "# slicing\n",
    "print(names[:5]) # first 5\n",
    "print(names[-5:]) # last 5\n",
    "print(names[2:-2]) # all except first 2 and last 2"
   ]
  },
  {
   "cell_type": "code",
   "execution_count": 10,
   "metadata": {},
   "outputs": [
    {
     "name": "stdout",
     "output_type": "stream",
     "text": [
      "['Savri', 'Sachin', 'Esha', 'Ammar', 'faheem', 'Paras', 'Ritesh', 'Arpit', 'Naman', 'Shiv', 'Manas', 'Satwik']\n",
      "['Satwik', 'Shiv', 'Arpit', 'Paras', 'Ammar', 'Sachin']\n",
      "['Manas', 'Naman', 'Ritesh', 'faheem', 'Esha', 'Savri']\n"
     ]
    }
   ],
   "source": [
    "print(names[::-1]) # reverse\n",
    "print(names[::2]) # even students\n",
    "print(names[1::2]) #odd students"
   ]
  },
  {
   "cell_type": "code",
   "execution_count": 11,
   "metadata": {},
   "outputs": [
    {
     "name": "stdout",
     "output_type": "stream",
     "text": [
      "kiwtaS sanaM vihS namaN tiprA hsetiR saraP meehaf rammA ahsE nihcaS irvaS "
     ]
    }
   ],
   "source": [
    "for i in names:\n",
    "    print(i[::-1], end=' ')"
   ]
  },
  {
   "cell_type": "markdown",
   "metadata": {},
   "source": [
    "list method\n",
    "- add\n",
    "     - append\n",
    "     - extend\n",
    "     - insert\n",
    "- remove\n",
    "     - remove\n",
    "     - poop\n",
    "     - clear\n",
    "- utility\n",
    "     - reverse\n",
    "     - sort\n",
    "     - count\n",
    "     - index \n",
    "     - copy"
   ]
  },
  {
   "cell_type": "code",
   "execution_count": 12,
   "metadata": {},
   "outputs": [
    {
     "ename": "SyntaxError",
     "evalue": "unterminated string literal (detected at line 1) (2695588341.py, line 1)",
     "output_type": "error",
     "traceback": [
      "\u001b[1;36m  Cell \u001b[1;32mIn[12], line 1\u001b[1;36m\u001b[0m\n\u001b[1;33m    fruits = ['apple','banana',cherry','dragonfruit','elderberry','flig']\u001b[0m\n\u001b[1;37m                                                                       ^\u001b[0m\n\u001b[1;31mSyntaxError\u001b[0m\u001b[1;31m:\u001b[0m unterminated string literal (detected at line 1)\n"
     ]
    }
   ],
   "source": [
    "fruits = ['apple', 'banana',cherry','dragonfruit','elderberry','flig']\n",
    "fruit.append('gauva')\n",
    "print(gauva)"
   ]
  },
  {
   "cell_type": "code",
   "execution_count": 13,
   "metadata": {},
   "outputs": [
    {
     "ename": "NameError",
     "evalue": "name 'fruits' is not defined",
     "output_type": "error",
     "traceback": [
      "\u001b[1;31m---------------------------------------------------------------------------\u001b[0m",
      "\u001b[1;31mNameError\u001b[0m                                 Traceback (most recent call last)",
      "Cell \u001b[1;32mIn[13], line 1\u001b[0m\n\u001b[1;32m----> 1\u001b[0m fruits\u001b[38;5;241m.\u001b[39mappend\n\u001b[0;32m      2\u001b[0m fruits\u001b[38;5;241m.\u001b[39mappend\n",
      "\u001b[1;31mNameError\u001b[0m: name 'fruits' is not defined"
     ]
    }
   ],
   "source": [
    "fruits.append\n",
    "fruits.append"
   ]
  },
  {
   "cell_type": "code",
   "execution_count": 14,
   "metadata": {},
   "outputs": [
    {
     "ename": "NameError",
     "evalue": "name 'fruits' is not defined",
     "output_type": "error",
     "traceback": [
      "\u001b[1;31m---------------------------------------------------------------------------\u001b[0m",
      "\u001b[1;31mNameError\u001b[0m                                 Traceback (most recent call last)",
      "Cell \u001b[1;32mIn[14], line 1\u001b[0m\n\u001b[1;32m----> 1\u001b[0m fruits\u001b[38;5;241m.\u001b[39mappend([\u001b[38;5;241m1\u001b[39m,\u001b[38;5;241m2\u001b[39m,\u001b[38;5;241m3\u001b[39m]) \u001b[38;5;66;03m# add this list to fruits in nested foramt\u001b[39;00m\n\u001b[0;32m      2\u001b[0m \u001b[38;5;28mprint\u001b[39m(fruits)\n",
      "\u001b[1;31mNameError\u001b[0m: name 'fruits' is not defined"
     ]
    }
   ],
   "source": [
    "fruits.append([1,2,3]) # add this list to fruits in nested foramt\n",
    "print(fruits)"
   ]
  },
  {
   "cell_type": "code",
   "execution_count": 15,
   "metadata": {},
   "outputs": [
    {
     "ename": "NameError",
     "evalue": "name 'fruits' is not defined",
     "output_type": "error",
     "traceback": [
      "\u001b[1;31m---------------------------------------------------------------------------\u001b[0m",
      "\u001b[1;31mNameError\u001b[0m                                 Traceback (most recent call last)",
      "Cell \u001b[1;32mIn[15], line 1\u001b[0m\n\u001b[1;32m----> 1\u001b[0m fruits\u001b[38;5;241m.\u001b[39mextend([\u001b[38;5;241m1\u001b[39m,\u001b[38;5;241m2\u001b[39m,\u001b[38;5;241m3\u001b[39m]) \n\u001b[0;32m      2\u001b[0m \u001b[38;5;28mprint\u001b[39m(fruits)\n",
      "\u001b[1;31mNameError\u001b[0m: name 'fruits' is not defined"
     ]
    }
   ],
   "source": [
    "fruits.extend([1,2,3]) \n",
    "print(fruits)"
   ]
  },
  {
   "cell_type": "code",
   "execution_count": 16,
   "metadata": {},
   "outputs": [
    {
     "name": "stdout",
     "output_type": "stream",
     "text": [
      "[11, 12, 13, 14, 15, 18, 20]\n"
     ]
    }
   ],
   "source": [
    "x = [11,12,13,14,15,18,20]\n",
    "# replace value 14 by 13\n",
    "x[2] = 13 # update the value at index 2\n",
    "print(x)"
   ]
  },
  {
   "cell_type": "code",
   "execution_count": 18,
   "metadata": {},
   "outputs": [
    {
     "name": "stdout",
     "output_type": "stream",
     "text": [
      "[11, 12, 13, 14, 14, 14, 15, 18, 20]\n",
      "[11, 12, 13, 14, 14, 14, 15, 16, 18, 20]\n",
      "[11, 12, 13, 14, 14, 14, 15, 16, 17, 18, 20]\n"
     ]
    }
   ],
   "source": [
    "x.insert(3, 14)\n",
    "print(x)\n",
    "x.insert(-2, 16)\n",
    "print(x)\n",
    "x.insert(-2, 17)\n",
    "print(x)\n"
   ]
  },
  {
   "cell_type": "code",
   "execution_count": 21,
   "metadata": {},
   "outputs": [
    {
     "ename": "ValueError",
     "evalue": "list.remove(x): x not in list",
     "output_type": "error",
     "traceback": [
      "\u001b[1;31m---------------------------------------------------------------------------\u001b[0m",
      "\u001b[1;31mValueError\u001b[0m                                Traceback (most recent call last)",
      "Cell \u001b[1;32mIn[21], line 1\u001b[0m\n\u001b[1;32m----> 1\u001b[0m x\u001b[38;5;241m.\u001b[39mremove(\u001b[38;5;241m20\u001b[39m)\n\u001b[0;32m      2\u001b[0m \u001b[38;5;28mprint\u001b[39m(x)\n",
      "\u001b[1;31mValueError\u001b[0m: list.remove(x): x not in list"
     ]
    }
   ],
   "source": [
    "x.remove(20)\n",
    "print(x)"
   ]
  },
  {
   "cell_type": "code",
   "execution_count": 22,
   "metadata": {},
   "outputs": [
    {
     "name": "stdout",
     "output_type": "stream",
     "text": [
      "[1, 1, 1, 2, 2]\n",
      "[2, 2]\n"
     ]
    }
   ],
   "source": [
    "x = [1,1,1,2,2]\n",
    "print(x)\n",
    "x.remove(1) # first occurance only\n",
    "x.remove(1) \n",
    "x.remove(1)\n",
    "print(x)"
   ]
  },
  {
   "cell_type": "code",
   "execution_count": 23,
   "metadata": {},
   "outputs": [],
   "source": [
    "x = [1,2,3,4,5]\n",
    "if 5 in x:\n",
    "    x.remove(5)\n",
    "if 6 in x:\n",
    "    x.remove(6)\n",
    "    print(x)\n",
    "\n"
   ]
  },
  {
   "cell_type": "code",
   "execution_count": 24,
   "metadata": {},
   "outputs": [
    {
     "name": "stdout",
     "output_type": "stream",
     "text": [
      "[11, 12, 13, 14, 15]\n",
      "[11, 12, 14, 15]\n"
     ]
    }
   ],
   "source": [
    "x = [11,12,13,14,15,16]\n",
    "x.pop() # remove last element\n",
    "print(x)\n",
    "x.pop(2) # remove index 2 element\n",
    "print(x)"
   ]
  },
  {
   "cell_type": "code",
   "execution_count": 25,
   "metadata": {},
   "outputs": [
    {
     "name": "stdout",
     "output_type": "stream",
     "text": [
      "[11, 12, 14]\n",
      "15\n"
     ]
    }
   ],
   "source": [
    "item = x.pop()\n",
    "print(x)\n",
    "print(item)"
   ]
  },
  {
   "cell_type": "code",
   "execution_count": 26,
   "metadata": {},
   "outputs": [
    {
     "name": "stdout",
     "output_type": "stream",
     "text": [
      "['Satwik', 'Manas', 'Shiv', 'Naman', 'Arpit', 'Ritesh', 'Paras', 'faheem', 'Ammar', 'Esha', 'Sachin', 'Savri']\n"
     ]
    }
   ],
   "source": [
    "x.clear()\n",
    "print(names)"
   ]
  },
  {
   "cell_type": "code",
   "execution_count": 27,
   "metadata": {},
   "outputs": [
    {
     "name": "stdout",
     "output_type": "stream",
     "text": [
      "[]\n"
     ]
    }
   ],
   "source": [
    "names.clear()\n",
    "print(names)"
   ]
  },
  {
   "cell_type": "code",
   "execution_count": 28,
   "metadata": {},
   "outputs": [
    {
     "ename": "NameError",
     "evalue": "name 'fruits' is not defined",
     "output_type": "error",
     "traceback": [
      "\u001b[1;31m---------------------------------------------------------------------------\u001b[0m",
      "\u001b[1;31mNameError\u001b[0m                                 Traceback (most recent call last)",
      "Cell \u001b[1;32mIn[28], line 1\u001b[0m\n\u001b[1;32m----> 1\u001b[0m fruits\u001b[38;5;241m.\u001b[39mreverse()\n\u001b[0;32m      2\u001b[0m \u001b[38;5;28mprint\u001b[39m(fruits)\n",
      "\u001b[1;31mNameError\u001b[0m: name 'fruits' is not defined"
     ]
    }
   ],
   "source": [
    "fruits.reverse()\n",
    "print(fruits)"
   ]
  },
  {
   "cell_type": "code",
   "execution_count": 29,
   "metadata": {},
   "outputs": [
    {
     "ename": "NameError",
     "evalue": "name 'nums' is not defined",
     "output_type": "error",
     "traceback": [
      "\u001b[1;31m---------------------------------------------------------------------------\u001b[0m",
      "\u001b[1;31mNameError\u001b[0m                                 Traceback (most recent call last)",
      "Cell \u001b[1;32mIn[29], line 2\u001b[0m\n\u001b[0;32m      1\u001b[0m num \u001b[38;5;241m=\u001b[39m [\u001b[38;5;241m12\u001b[39m,\u001b[38;5;241m45\u001b[39m,\u001b[38;5;241m56\u001b[39m,\u001b[38;5;241m12\u001b[39m,\u001b[38;5;241m56\u001b[39m,\u001b[38;5;241m23\u001b[39m,\u001b[38;5;241m3\u001b[39m,\u001b[38;5;241m56\u001b[39m]\n\u001b[1;32m----> 2\u001b[0m nums\u001b[38;5;241m.\u001b[39msort()\n\u001b[0;32m      3\u001b[0m \u001b[38;5;28mprint\u001b[39m(\u001b[38;5;124m\"\u001b[39m\u001b[38;5;124mascending=>\u001b[39m\u001b[38;5;124m\"\u001b[39m,nums)\n\u001b[0;32m      4\u001b[0m nums\u001b[38;5;241m.\u001b[39msort(reverse\u001b[38;5;241m=\u001b[39m\u001b[38;5;28;01mTrue\u001b[39;00m)\n",
      "\u001b[1;31mNameError\u001b[0m: name 'nums' is not defined"
     ]
    }
   ],
   "source": [
    "nums = [12,45,56,12,56,23,3,56]\n",
    "nums.sort()\n",
    "print(\"ascending=>\",nums)\n",
    "nums.sort(reverse=True)\n",
    "print(\"descending=>\",nums)"
   ]
  },
  {
   "cell_type": "code",
   "execution_count": 30,
   "metadata": {},
   "outputs": [
    {
     "name": "stdout",
     "output_type": "stream",
     "text": [
      "0\n",
      "4\n",
      "4\n",
      "1\n"
     ]
    }
   ],
   "source": [
    "x = [12,45,12,54,45,12,45,12,45]\n",
    "print(x.count(1))\n",
    "print(x.count(12))\n",
    "print(x.count(45))\n",
    "print(x.count(54))"
   ]
  },
  {
   "cell_type": "code",
   "execution_count": 31,
   "metadata": {},
   "outputs": [
    {
     "ename": "NameError",
     "evalue": "name 'fruits' is not defined",
     "output_type": "error",
     "traceback": [
      "\u001b[1;31m---------------------------------------------------------------------------\u001b[0m",
      "\u001b[1;31mNameError\u001b[0m                                 Traceback (most recent call last)",
      "Cell \u001b[1;32mIn[31], line 1\u001b[0m\n\u001b[1;32m----> 1\u001b[0m \u001b[38;5;28mprint\u001b[39m(fruits)\n\u001b[0;32m      2\u001b[0m \u001b[38;5;28mprint\u001b[39m(\u001b[38;5;124m\"\u001b[39m\u001b[38;5;124mgauva ->\u001b[39m\u001b[38;5;124m\"\u001b[39m, fruits\u001b[38;5;241m.\u001b[39mindex(\u001b[38;5;124m'\u001b[39m\u001b[38;5;124mgauva\u001b[39m\u001b[38;5;124m'\u001b[39m))\n\u001b[0;32m      3\u001b[0m \u001b[38;5;28mprint\u001b[39m(\u001b[38;5;124m\"\u001b[39m\u001b[38;5;124mbanana ->\u001b[39m\u001b[38;5;124m\"\u001b[39m, fruits\u001b[38;5;241m.\u001b[39mindex(\u001b[38;5;124m'\u001b[39m\u001b[38;5;124mbanana\u001b[39m\u001b[38;5;124m'\u001b[39m))\n",
      "\u001b[1;31mNameError\u001b[0m: name 'fruits' is not defined"
     ]
    }
   ],
   "source": [
    "print(fruits)\n",
    "print(\"gauva ->\", fruits.index('gauva'))\n",
    "print(\"banana ->\", fruits.index('banana'))\n",
    "print(\"apple ->\", fruits.index('apple'))"
   ]
  },
  {
   "cell_type": "code",
   "execution_count": 32,
   "metadata": {},
   "outputs": [
    {
     "name": "stdout",
     "output_type": "stream",
     "text": [
      "[1, 2, 3]\n",
      "[1, 2, 3]\n",
      "True\n",
      "[1, 2, 3]\n",
      "[1, 2, 3]\n",
      "False\n"
     ]
    }
   ],
   "source": [
    "x = [1,2,3]\n",
    "y = x # store the refrence of x in y\n",
    "print(x)\n",
    "print(y)\n",
    "print(y is x)\n",
    "z = x.copy() # create a seperate copy of item in a new melory location\n",
    "print(x)\n",
    "print(y)\n",
    "print(z is x)"
   ]
  },
  {
   "cell_type": "code",
   "execution_count": null,
   "metadata": {},
   "outputs": [],
   "source": []
  }
 ],
 "metadata": {
  "kernelspec": {
   "display_name": "base",
   "language": "python",
   "name": "python3"
  },
  "language_info": {
   "codemirror_mode": {
    "name": "ipython",
    "version": 3
   },
   "file_extension": ".py",
   "mimetype": "text/x-python",
   "name": "python",
   "nbconvert_exporter": "python",
   "pygments_lexer": "ipython3",
   "version": "3.12.4"
  }
 },
 "nbformat": 4,
 "nbformat_minor": 2
}
