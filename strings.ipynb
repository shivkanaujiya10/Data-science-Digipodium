{
 "cells": [
  {
   "cell_type": "markdown",
   "metadata": {},
   "source": [
    "### String methods\n",
    "- formatting\n",
    "- validation\n",
    "- utility"
   ]
  },
  {
   "cell_type": "code",
   "execution_count": 1,
   "metadata": {},
   "outputs": [
    {
     "name": "stdout",
     "output_type": "stream",
     "text": [
      "Journey before Destination\n"
     ]
    },
    {
     "ename": "TypeError",
     "evalue": "'str' object is not callable",
     "output_type": "error",
     "traceback": [
      "\u001b[1;31m---------------------------------------------------------------------------\u001b[0m",
      "\u001b[1;31mTypeError\u001b[0m                                 Traceback (most recent call last)",
      "Cell \u001b[1;32mIn[1], line 4\u001b[0m\n\u001b[0;32m      2\u001b[0m quote \u001b[38;5;241m=\u001b[39m \u001b[38;5;124m\"\u001b[39m\u001b[38;5;124mJourney before Destination\u001b[39m\u001b[38;5;124m\"\u001b[39m\n\u001b[0;32m      3\u001b[0m \u001b[38;5;28mprint\u001b[39m(quote)\n\u001b[1;32m----> 4\u001b[0m \u001b[38;5;28mprint\u001b[39m(\u001b[38;5;124m\"\u001b[39m\u001b[38;5;124moriginal:\u001b[39m\u001b[38;5;124m\"\u001b[39m, quote())\n\u001b[0;32m      5\u001b[0m \u001b[38;5;28mprint\u001b[39m(\u001b[38;5;124m\"\u001b[39m\u001b[38;5;124mupper:\u001b[39m\u001b[38;5;124m\"\u001b[39m, quote\u001b[38;5;241m.\u001b[39mupper())\n\u001b[0;32m      6\u001b[0m \u001b[38;5;28mprint\u001b[39m(\u001b[38;5;124m\"\u001b[39m\u001b[38;5;124mlower:\u001b[39m\u001b[38;5;124m\"\u001b[39m, quote\u001b[38;5;241m.\u001b[39mlower())\n",
      "\u001b[1;31mTypeError\u001b[0m: 'str' object is not callable"
     ]
    }
   ],
   "source": [
    "# formatting\n",
    "quote = \"Journey before Destination\"\n",
    "print(quote)\n",
    "print(\"original:\", quote())\n",
    "print(\"upper:\", quote.upper())\n",
    "print(\"lower:\", quote.lower())\n",
    "print(\"capitalize:\", quote.capitalize())\n",
    "print(\"title:\", quote.title())\n",
    "print(\"swapcase:\", quote.swapcase())\n",
    "print(\"casefold:\", quote.casefold())\n",
    "print(quote)\n",
    "quote = quote.upper()\n",
    "print(quote)"
   ]
  },
  {
   "cell_type": "code",
   "execution_count": 2,
   "metadata": {},
   "outputs": [
    {
     "name": "stdout",
     "output_type": "stream",
     "text": [
      "Journey before Destination                                                      \n",
      "Journey before Destination------------------------------------------------------\n",
      "                                                      Journey before Destination\n"
     ]
    },
    {
     "ename": "TypeError",
     "evalue": "The fill character must be exactly one character long",
     "output_type": "error",
     "traceback": [
      "\u001b[1;31m---------------------------------------------------------------------------\u001b[0m",
      "\u001b[1;31mTypeError\u001b[0m                                 Traceback (most recent call last)",
      "Cell \u001b[1;32mIn[2], line 4\u001b[0m\n\u001b[0;32m      2\u001b[0m \u001b[38;5;28mprint\u001b[39m(quote\u001b[38;5;241m.\u001b[39mljust(\u001b[38;5;241m80\u001b[39m, \u001b[38;5;124m'\u001b[39m\u001b[38;5;124m-\u001b[39m\u001b[38;5;124m'\u001b[39m))\n\u001b[0;32m      3\u001b[0m \u001b[38;5;28mprint\u001b[39m(quote\u001b[38;5;241m.\u001b[39mrjust(\u001b[38;5;241m80\u001b[39m))\n\u001b[1;32m----> 4\u001b[0m \u001b[38;5;28mprint\u001b[39m(quote\u001b[38;5;241m.\u001b[39mrjust(\u001b[38;5;241m80\u001b[39m, \u001b[38;5;124m'\u001b[39m\u001b[38;5;124m'\u001b[39m))\n",
      "\u001b[1;31mTypeError\u001b[0m: The fill character must be exactly one character long"
     ]
    }
   ],
   "source": [
    "print(quote.ljust(80))\n",
    "print(quote.ljust(80, '-'))\n",
    "print(quote.rjust(80))\n",
    "print(quote.rjust(80, ''))\n",
    "\n"
   ]
  },
  {
   "cell_type": "code",
   "execution_count": 3,
   "metadata": {},
   "outputs": [
    {
     "name": "stdout",
     "output_type": "stream",
     "text": [
      "True\n",
      "False\n",
      "True\n",
      "False\n",
      "False\n",
      "True\n",
      "True\n",
      "True\n",
      "True\n",
      "False\n",
      "True\n",
      "True\n",
      "False\n"
     ]
    }
   ],
   "source": [
    "# validation\n",
    "print('123' .isdigit()) # isdigit\n",
    "print('1 23' .isdigit())\n",
    "print('apple' .isalpha()) # isalpha\n",
    "print('1apple' .isalpha())\n",
    "print('apple pie' .isalpha())\n",
    "print('apple123' .isalnum()) #isalnum\n",
    "print('123' .isalnum())\n",
    "print('cherry' .isalnum())\n",
    "print('cherry123' .isalnum())\n",
    "print('cherry123' .isnumeric())\n",
    "print('123' .isnumeric())\n",
    "print('   ' .isspace())\n",
    "print('1 2 3' .isspace())"
   ]
  },
  {
   "cell_type": "code",
   "execution_count": 5,
   "metadata": {},
   "outputs": [
    {
     "name": "stdout",
     "output_type": "stream",
     "text": [
      "Please go back kindergarten\n"
     ]
    }
   ],
   "source": [
    "num = input(\"enter a number\")\n",
    "if num.isnumeric():\n",
    "    num = int(num)\n",
    "    print(\"Shabash\")\n",
    "else:\n",
    "    print(\"Please go back kindergarten\")"
   ]
  },
  {
   "cell_type": "code",
   "execution_count": 6,
   "metadata": {},
   "outputs": [
    {
     "name": "stdout",
     "output_type": "stream",
     "text": [
      "True\n",
      "False\n",
      "False\n",
      "True\n",
      "True\n",
      "True\n",
      "False\n"
     ]
    }
   ],
   "source": [
    "print('apple' .startswith('a'))\n",
    "print('apple' .startswith('A'))\n",
    "print('apple' .startswith('b'))\n",
    "print('apple' .endswith('e'))\n",
    "print('book.pdf' .endswith('pdf'))\n",
    "print('book_one.pdf' .startswith('book'))\n",
    "print('book_one.pdf' .startswith('one'))"
   ]
  },
  {
   "cell_type": "code",
   "execution_count": 7,
   "metadata": {},
   "outputs": [
    {
     "name": "stdout",
     "output_type": "stream",
     "text": [
      "a.exe\n",
      "b.exe\n",
      "d.exe\n"
     ]
    }
   ],
   "source": [
    "apps = ['a.exe','b.exe','c.pdf','d.exe','e.doc','f.doc']\n",
    "for app in apps:\n",
    "    if app.endswith('.exe'):\n",
    "        print(app)"
   ]
  },
  {
   "cell_type": "code",
   "execution_count": 8,
   "metadata": {},
   "outputs": [
    {
     "name": "stdout",
     "output_type": "stream",
     "text": [
      "-1\n",
      "-1\n",
      "-1\n",
      "-1\n",
      "-1\n",
      "-1\n",
      "-1\n",
      "-1\n"
     ]
    }
   ],
   "source": [
    "# utility - find, replace, count, strip, split, join\n",
    "print(quote.find('B'))\n",
    "print(quote.find('BEFORE'))\n",
    "print(quote.find('N'))\n",
    "print(quote.find('N', 5)) # start from 5 index\n",
    "print(quote.find('I', 1, 10)) # start 1st index , stop 10 index\n",
    "print(quote.find('I',))\n",
    "print(quote.find('FORE DE'))\n",
    "print(quote.find('FOREDE'))\n"
   ]
  },
  {
   "cell_type": "code",
   "execution_count": 10,
   "metadata": {},
   "outputs": [
    {
     "name": "stdout",
     "output_type": "stream",
     "text": [
      "Journey before Destination\n",
      "Journey before Destination\n",
      "Journey before Destination\n",
      "Journey before Destination\n",
      "Journey before Destination\n"
     ]
    }
   ],
   "source": [
    "print(quote.replace(\"BEFORE\",\"AFTER\"))\n",
    "print(quote.replace(\"E\",\"A\"))\n",
    "print(quote.replace(\"E\",\"O\", 2))\n",
    "print(quote.replace(\"E\",\">>>\",))\n",
    "\n",
    "quote = quote.replace(\"JOURNEY\", \"SLEEPING\")\n",
    "print(quote)\n",
    "quote = quote.replace('A','_').replace(\"E\",\"_\").replace(\"I\",'_')"
   ]
  },
  {
   "cell_type": "code",
   "execution_count": 11,
   "metadata": {},
   "outputs": [
    {
     "name": "stdout",
     "output_type": "stream",
     "text": [
      "5\n",
      "3\n",
      "1\n",
      "0\n",
      "3\n"
     ]
    }
   ],
   "source": [
    "words = 'egg spam egg egg spam egg spam bacon egg'\n",
    "print(words.count('egg'))\n",
    "print(words.count('spam'))\n",
    "print(words.count('bacon'))\n",
    "print(words.count('pie'))\n",
    "print(words.count('egg s'))"
   ]
  },
  {
   "cell_type": "code",
   "execution_count": 16,
   "metadata": {},
   "outputs": [
    {
     "name": "stdout",
     "output_type": "stream",
     "text": [
      " Alex mason \n",
      "Alex mason\n",
      "\n",
      "\n",
      "123340\n",
      "\n",
      "\n",
      "123340\n"
     ]
    }
   ],
   "source": [
    "name = ' Alex mason '\n",
    "print(name)\n",
    "print(name.strip())\n",
    "data = '''\n",
    "\n",
    "123340\n",
    "\n",
    "'''\n",
    "print(data)\n",
    "print(data.strip())\n"
   ]
  },
  {
   "cell_type": "code",
   "execution_count": 15,
   "metadata": {},
   "outputs": [
    {
     "name": "stdout",
     "output_type": "stream",
     "text": [
      "123340\n"
     ]
    }
   ],
   "source": [
    "data = data.strip()\n",
    "print(data)"
   ]
  },
  {
   "cell_type": "code",
   "execution_count": 18,
   "metadata": {},
   "outputs": [
    {
     "name": "stdout",
     "output_type": "stream",
     "text": [
      "['egg', 'spam', 'egg', 'egg', 'spam', 'egg', 'spam', 'bacon', 'egg']\n",
      "['a', 'b', 'c', 'd', 'e']\n",
      "['a', 'b', 'c', 'd', 'e']\n",
      "['Johny Johney,Yes Papa,', 'Eating sugar? No Papa,', 'Tellig lie? No Papa', 'Open your mouth, Ha! Ha! Ha!']\n"
     ]
    }
   ],
   "source": [
    "print(words.split())\n",
    "print(\"a,b,c,d,e\".split(','))\n",
    "print(\"a-b-c-d-e\".split('-'))\n",
    "poem = '''\n",
    "Johny Johney,Yes Papa,\n",
    "Eating sugar? No Papa,\n",
    "Tellig lie? No Papa\n",
    "Open your mouth, Ha! Ha! Ha!\n",
    "'''\n",
    "sentence = poem.strip().splitlines()\n",
    "print(sentence)\n"
   ]
  },
  {
   "cell_type": "code",
   "execution_count": 21,
   "metadata": {},
   "outputs": [
    {
     "name": "stdout",
     "output_type": "stream",
     "text": [
      "192.168.1.1\n"
     ]
    }
   ],
   "source": [
    "addr = ['192','168','1','1']  # list of str\n",
    "ip_addr = \".\".join(addr)\n",
    "print(ip_addr)"
   ]
  },
  {
   "cell_type": "code",
   "execution_count": null,
   "metadata": {},
   "outputs": [],
   "source": []
  }
 ],
 "metadata": {
  "kernelspec": {
   "display_name": "base",
   "language": "python",
   "name": "python3"
  },
  "language_info": {
   "codemirror_mode": {
    "name": "ipython",
    "version": 3
   },
   "file_extension": ".py",
   "mimetype": "text/x-python",
   "name": "python",
   "nbconvert_exporter": "python",
   "pygments_lexer": "ipython3",
   "version": "3.12.4"
  }
 },
 "nbformat": 4,
 "nbformat_minor": 2
}
